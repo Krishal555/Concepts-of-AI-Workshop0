{
  "nbformat": 4,
  "nbformat_minor": 0,
  "metadata": {
    "colab": {
      "provenance": [],
      "mount_file_id": "1mdK2hpNJQjitf6Xz0UuYBngeRR6qIwsv",
      "authorship_tag": "ABX9TyP3jqbCDWEl/iR9lMqzONfC",
      "include_colab_link": true
    },
    "kernelspec": {
      "name": "python3",
      "display_name": "Python 3"
    },
    "language_info": {
      "name": "python"
    }
  },
  "cells": [
    {
      "cell_type": "markdown",
      "metadata": {
        "id": "view-in-github",
        "colab_type": "text"
      },
      "source": [
        "<a href=\"https://colab.research.google.com/github/Krishal555/Concepts-of-AI-Workshop0/blob/main/Workshop_07.ipynb\" target=\"_parent\"><img src=\"https://colab.research.google.com/assets/colab-badge.svg\" alt=\"Open In Colab\"/></a>"
      ]
    },
    {
      "cell_type": "markdown",
      "source": [
        "#Download the Pima Indian Diabetes Dataset:\n",
        "Available from sources like Kaggle.\n",
        "#Contains columns such as:\n",
        "1. Pregnancies, Glucose, BloodPressure, SkinThickness, Insulin, BMI,\n",
        "DiabetesPedigreeFunction, Age, Outcome (whether the patient has\n",
        "diabetes or not).\n"
      ],
      "metadata": {
        "id": "6up78FESQ0x8"
      }
    },
    {
      "cell_type": "code",
      "execution_count": 2,
      "metadata": {
        "id": "RYsCqbThQ0KI"
      },
      "outputs": [],
      "source": [
        "import pandas as pd\n",
        "from sklearn.model_selection import train_test_split\n",
        "from sklearn.linear_model import LinearRegression\n",
        "from sklearn.metrics import mean_squared_error, r2_score\n",
        "import numpy as np\n",
        "\n",
        "#Loading dataset\n",
        "data = pd.read_csv('/content/drive/MyDrive/diabetes.csv')"
      ]
    },
    {
      "cell_type": "code",
      "source": [
        "# Replace zero values in 'BloodPressure' with NaN\n",
        "columns_with_zeros = ['BloodPressure', 'SkinThickness', 'Insulin', 'BMI']\n",
        "data[columns_with_zeros] = data[columns_with_zeros].replace(0, np.nan)\n",
        "\n",
        "# Impute missing values with the median of each column\n",
        "data.fillna(data.median(), inplace=True)"
      ],
      "metadata": {
        "id": "ldrenMSkSiis"
      },
      "execution_count": 3,
      "outputs": []
    },
    {
      "cell_type": "code",
      "source": [
        "# Features and target selection\n",
        "X = data.drop(columns=['BloodPressure'])\n",
        "y = data['BloodPressure']\n",
        "\n",
        "# Split the dataset into training and testing sets\n",
        "X_train, X_test, y_train, y_test = train_test_split(X, y, test_size=0.2, random_state=42)"
      ],
      "metadata": {
        "id": "yltgfU0uSsQR"
      },
      "execution_count": 4,
      "outputs": []
    },
    {
      "cell_type": "code",
      "source": [
        "# Initialize and train the Linear Regression model\n",
        "model = LinearRegression()\n",
        "model.fit(X_train, y_train)\n",
        "# Make predictions\n",
        "y_pred = model.predict(X_test)"
      ],
      "metadata": {
        "id": "-FLNpjeYStIw"
      },
      "execution_count": 5,
      "outputs": []
    },
    {
      "cell_type": "code",
      "source": [
        "# Evaluate the model\n",
        "mse = mean_squared_error(y_test, y_pred)\n",
        "r2 = r2_score(y_test, y_pred)\n",
        "\n",
        "print(f\"Mean Squared Error: {mse}\")\n",
        "print(f\"R-squared: {r2}\")"
      ],
      "metadata": {
        "colab": {
          "base_uri": "https://localhost:8080/"
        },
        "id": "UuoC5Q7MSxgA",
        "outputId": "4bcde7d0-1c64-4ece-e549-ed9c4cf0561c"
      },
      "execution_count": 6,
      "outputs": [
        {
          "output_type": "stream",
          "name": "stdout",
          "text": [
            "Mean Squared Error: 112.13777675350966\n",
            "R-squared: 0.2297396241390055\n"
          ]
        }
      ]
    },
    {
      "cell_type": "markdown",
      "source": [
        "#Regression Task:\n",
        "1. Predict the Blood Pressure of the patients based on other features.\n",
        "2. Use Linear Regression model from Scikit-learn.\n"
      ],
      "metadata": {
        "id": "WXH6vZH2Rvxp"
      }
    },
    {
      "cell_type": "code",
      "source": [
        "# Features and target selection\n",
        "X = data.drop(columns=['BloodPressure'])\n",
        "y = data['BloodPressure']\n",
        "\n",
        "# Split the dataset into training and testing sets\n",
        "X_train, X_test, y_train, y_test = train_test_split(X, y, test_size=0.2, random_state=42)\n",
        "\n",
        "# Initialize and train the Linear Regression model\n",
        "model = LinearRegression()\n",
        "model.fit(X_train, y_train)\n",
        "\n",
        "# Make predictions\n",
        "y_pred = model.predict(X_test)\n",
        "\n",
        "# Evaluate the model\n",
        "mse = mean_squared_error(y_test, y_pred)\n",
        "r2 = r2_score(y_test, y_pred)\n",
        "\n",
        "print(\"Regression Task: Predict Blood Pressure\")\n",
        "print(f\"Mean Squared Error: {mse}\")\n",
        "print(f\"R-squared: {r2}\")"
      ],
      "metadata": {
        "colab": {
          "base_uri": "https://localhost:8080/"
        },
        "id": "nOJMgLMPRwY-",
        "outputId": "2b8681d4-2451-4aa9-c6b8-d8a58366a227"
      },
      "execution_count": 7,
      "outputs": [
        {
          "output_type": "stream",
          "name": "stdout",
          "text": [
            "Regression Task: Predict Blood Pressure\n",
            "Mean Squared Error: 112.13777675350966\n",
            "R-squared: 0.2297396241390055\n"
          ]
        }
      ]
    },
    {
      "cell_type": "code",
      "source": [],
      "metadata": {
        "id": "QBJc9RZ_Ud4b"
      },
      "execution_count": null,
      "outputs": []
    },
    {
      "cell_type": "markdown",
      "source": [
        "\n",
        "#Classification Task:\n",
        "1. Predict whether the patient has diabetes (target column: Outcome).\n",
        "2. Use Logistic Regression or K-Nearest Neighbors (KNN) model.\n",
        "2. Once Build Evaluate the Model Appropriately.\n",
        "\n"
      ],
      "metadata": {
        "id": "La0RgzO0Rw5d"
      }
    },
    {
      "cell_type": "code",
      "source": [
        "import pandas as pd\n",
        "from sklearn.model_selection import train_test_split\n",
        "from sklearn.linear_model import LogisticRegression\n",
        "from sklearn.neighbors import KNeighborsClassifier\n",
        "from sklearn.metrics import accuracy_score, classification_report, confusion_matrix\n",
        "import numpy as np\n",
        "\n",
        "# Load the dataset\n",
        "data = pd.read_csv('/content/drive/MyDrive/diabetes.csv')\n",
        "\n",
        "# Replace zero values in relevant columns with NaN\n",
        "columns_with_zeros = ['BloodPressure', 'SkinThickness', 'Insulin', 'BMI']\n",
        "data[columns_with_zeros] = data[columns_with_zeros].replace(0, np.nan)\n",
        "\n",
        "# Impute missing values with the median of each column\n",
        "data.fillna(data.median(), inplace=True)\n",
        "\n",
        "# Features and target selection\n",
        "X = data.drop(columns=['Outcome'])\n",
        "y = data['Outcome']\n",
        "\n",
        "# Split the dataset into training and testing sets\n",
        "X_train, X_test, y_train, y_test = train_test_split(X, y, test_size=0.2, random_state=42)\n",
        "\n",
        "# Logistic Regression Model\n",
        "logistic_model = LogisticRegression(max_iter=1000, random_state=42)\n",
        "logistic_model.fit(X_train, y_train)\n",
        "y_pred_logistic = logistic_model.predict(X_test)\n",
        "\n",
        "# Evaluate Logistic Regression\n",
        "print(\"Logistic Regression Results:\")\n",
        "print(f\"Accuracy: {accuracy_score(y_test, y_pred_logistic)}\")\n",
        "print(\"Classification Report:\")\n",
        "print(classification_report(y_test, y_pred_logistic))\n",
        "print(\"Confusion Matrix:\")\n",
        "print(confusion_matrix(y_test, y_pred_logistic))\n",
        "\n",
        "# K-Nearest Neighbors Model\n",
        "knn_model = KNeighborsClassifier(n_neighbors=5)\n",
        "knn_model.fit(X_train, y_train)\n",
        "y_pred_knn = knn_model.predict(X_test)\n",
        "\n",
        "# Evaluate K-Nearest Neighbors\n",
        "print(\"\\nK-Nearest Neighbors Results:\")\n",
        "print(f\"Accuracy: {accuracy_score(y_test, y_pred_knn)}\")\n",
        "print(\"Classification Report:\")\n",
        "print(classification_report(y_test, y_pred_knn))\n",
        "print(\"Confusion Matrix:\")\n",
        "display(confusion_matrix(y_test, y_pred_knn))\n"
      ],
      "metadata": {
        "colab": {
          "base_uri": "https://localhost:8080/",
          "height": 555
        },
        "id": "9usZqK0cRxQ4",
        "outputId": "5a0f8f5f-ce73-473c-ae29-5ece24738313"
      },
      "execution_count": 10,
      "outputs": [
        {
          "output_type": "stream",
          "name": "stdout",
          "text": [
            "Logistic Regression Results:\n",
            "Accuracy: 0.7467532467532467\n",
            "Classification Report:\n",
            "              precision    recall  f1-score   support\n",
            "\n",
            "           0       0.79      0.82      0.81        99\n",
            "           1       0.65      0.62      0.64        55\n",
            "\n",
            "    accuracy                           0.75       154\n",
            "   macro avg       0.72      0.72      0.72       154\n",
            "weighted avg       0.74      0.75      0.75       154\n",
            "\n",
            "Confusion Matrix:\n",
            "[[81 18]\n",
            " [21 34]]\n",
            "\n",
            "K-Nearest Neighbors Results:\n",
            "Accuracy: 0.6753246753246753\n",
            "Classification Report:\n",
            "              precision    recall  f1-score   support\n",
            "\n",
            "           0       0.77      0.71      0.74        99\n",
            "           1       0.54      0.62      0.58        55\n",
            "\n",
            "    accuracy                           0.68       154\n",
            "   macro avg       0.65      0.66      0.66       154\n",
            "weighted avg       0.69      0.68      0.68       154\n",
            "\n",
            "Confusion Matrix:\n"
          ]
        },
        {
          "output_type": "display_data",
          "data": {
            "text/plain": [
              "array([[70, 29],\n",
              "       [21, 34]])"
            ]
          },
          "metadata": {}
        }
      ]
    }
  ]
}
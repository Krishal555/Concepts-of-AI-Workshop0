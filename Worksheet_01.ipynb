{
  "nbformat": 4,
  "nbformat_minor": 0,
  "metadata": {
    "colab": {
      "provenance": [],
      "authorship_tag": "ABX9TyMYuVsUo+kqAhy0O2b8EPui",
      "include_colab_link": true
    },
    "kernelspec": {
      "name": "python3",
      "display_name": "Python 3"
    },
    "language_info": {
      "name": "python"
    }
  },
  "cells": [
    {
      "cell_type": "markdown",
      "metadata": {
        "id": "view-in-github",
        "colab_type": "text"
      },
      "source": [
        "<a href=\"https://colab.research.google.com/github/Krishal555/Concepts-of-AI-Workshop0/blob/main/Worksheet_01.ipynb\" target=\"_parent\"><img src=\"https://colab.research.google.com/assets/colab-badge.svg\" alt=\"Open In Colab\"/></a>"
      ]
    },
    {
      "cell_type": "markdown",
      "source": [
        "# Krishal Maharjan\n",
        "# Level - 5"
      ],
      "metadata": {
        "id": "tHwW9YMkJSNK"
      }
    },
    {
      "cell_type": "markdown",
      "source": [
        "\n",
        "#Worksheet 1\n",
        "#Machine Learning and AI"
      ],
      "metadata": {
        "id": "3q9R9AbSHYgF"
      }
    },
    {
      "cell_type": "markdown",
      "source": [
        "# Problem - 1: Array Creation:\n",
        "Complete the following Tasks:\n",
        "1. Initialize an empty array with size 2X2.\n",
        "2. Initialize an all one array with size 4X2.\n",
        "3. Return a new array of given shape and type, filled with fill value.{Hint: np.full}\n",
        "4. Return a new array of zeros with same shape and type as a given array.{Hint: np.zeros like}\n",
        "5. Return a new array of ones with same shape and type as a given array.{Hint: np.ones like}\n",
        "6. For an existing list new_list = [1,2,3,4] convert to an numpy array.{Hint: np.array()}"
      ],
      "metadata": {
        "id": "mIjxnrxFHaDl"
      }
    },
    {
      "cell_type": "code",
      "execution_count": null,
      "metadata": {
        "colab": {
          "base_uri": "https://localhost:8080/"
        },
        "id": "VIm3dtioBBK9",
        "outputId": "19d9a936-b21c-48a3-f4c1-cf24790e2e31"
      },
      "outputs": [
        {
          "output_type": "stream",
          "name": "stdout",
          "text": [
            "Empty array: \n",
            " [[4.9e-324 9.9e-324]\n",
            " [1.5e-323 2.0e-323]]\n",
            "Ones array: \n",
            " [[1. 1.]\n",
            " [1. 1.]\n",
            " [1. 1.]\n",
            " [1. 1.]]\n",
            "\n",
            "Filled value 7(4*2) and 5(2*2) : \n",
            "[[7 7]\n",
            " [7 7]\n",
            " [7 7]\n",
            " [7 7]] \n",
            "\n",
            " [[5 5]\n",
            " [5 5]]\n",
            "\n",
            "Zeros Like : \n",
            " [[0 0]\n",
            " [0 0]]\n",
            "\n",
            "Ones Like : \n",
            " [[1 1]\n",
            " [1 1]]\n",
            "Converted numpy array: \n",
            " [1 2 3 4]\n"
          ]
        }
      ],
      "source": [
        "import numpy as np\n",
        "emptyArr = np.empty((2,2))\n",
        "onesArr = np.ones((4,2))\n",
        "print(\"Empty array: \\n\",emptyArr)\n",
        "print(\"Ones array: \\n\",onesArr)\n",
        "\n",
        "filledArr1 = np.full((4,2),7)\n",
        "filledArr2 = np.full((2,2),5)\n",
        "print(\"\\nFilled value 7(4*2) and 5(2*2) : \")\n",
        "print(filledArr1,\"\\n\\n\",filledArr2)\n",
        "\n",
        "givenArr = np.array([[1,2],[3,4]])\n",
        "zeroslikeArr = np.zeros_like(givenArr)\n",
        "oneslikeArr = np.ones_like(givenArr)\n",
        "print(\"\\nZeros Like : \\n\",zeroslikeArr)\n",
        "print(\"\\nOnes Like : \\n\",oneslikeArr)\n",
        "\n",
        "newlist = [1,2,3,4]\n",
        "numpyArr = np.array(newlist)\n",
        "print(\"Converted numpy array: \\n\",numpyArr)"
      ]
    },
    {
      "cell_type": "markdown",
      "source": [
        "# 4.1.1 Problem - 2: Array Manipulation: Numerical Ranges and Array indexing:\n",
        "Complete the following tasks:\n",
        "1. Create an array with values ranging from 10 to 49. {Hint:np.arrange()}.\n",
        "2. Create a 3X3 matrix with values ranging from 0 to 8.\n",
        "{Hint:look for np.reshape()}\n",
        "3. Create a 3X3 identity matrix.{Hint:np.eye()}\n",
        "4. Create a random array of size 30 and find the mean of the array.\n",
        "{Hint:check for np.random.random() and array.mean() function}\n",
        "5. Create a 10X10 array with random values and find the minimum and maximum values.\n",
        "6. Create a zero array of size 10 and replace 5th element with 1.\n",
        "7. Reverse an array arr = [1,2,0,0,4,0].\n",
        "8. Create a 2d array with 1 on border and 0 inside.\n",
        "9. Create a 8X8 matrix and fill it with a checkerboard pattern."
      ],
      "metadata": {
        "id": "ZtNTfXX5HWlr"
      }
    },
    {
      "cell_type": "code",
      "source": [
        "import numpy as np\n",
        "arrayRange = np.arange(10,50)\n",
        "print(\"Array Range from 10 to 49\\n\",arrayRange)\n",
        "\n",
        "matrix = np.arange(9).reshape(3,3)\n",
        "print(\"\\n3 * 3 Matrix from 0 to 8:\\n\",matrix)\n",
        "\n",
        "identityMatrix = np.eye(3,3)\n",
        "print(\"\\nIdentity matrix of 3 * 3: \\n\",identityMatrix)\n",
        "\n",
        "randomArray = np.random.random(30)\n",
        "meanValue = randomArray.mean()\n",
        "print(f\"\\nMean value of it : {meanValue:.2f}\")\n",
        "\n",
        "randomValueArray = np.random.random((10,10))\n",
        "minValue = randomValueArray.min()\n",
        "maxValue = randomValueArray.max()\n",
        "\n",
        "print(\"\\n Random Value 10 * 10 array : \\n\",randomValueArray)\n",
        "print(f\"\\n Minimum Value : {minValue}\")\n",
        "print(f\"\\n Maximum Value : {maxValue}\")\n",
        "\n",
        "zeroArray = np.zeros(10)\n",
        "zeroArray[4] = 1\n",
        "print(zeroArray)\n",
        "\n",
        "arr = [1,2,0,0,4,0]\n",
        "reversedArray = arr[::-1]\n",
        "print(\"\\n Actual array :\",arr)\n",
        "print(\"\\n Reversed Array :\",reversedArray)\n",
        "\n",
        "array1 = np.ones((5,5))\n",
        "array1[1:-1,1:-1]=0\n",
        "print(\"\\n\",array1)\n",
        "\n",
        "checkerboard = np.zeros((8, 8), dtype=int)\n",
        "checkerboard[1::2, ::2] = 1  # Odd rows, even columns\n",
        "checkerboard[::2, 1::2] = 1  # Even rows,Odd columns\n",
        "print(\"\\nCheckerboard Pattern 8x8 Matrix:\\n\", checkerboard)"
      ],
      "metadata": {
        "colab": {
          "base_uri": "https://localhost:8080/"
        },
        "id": "r3xl7ezRH8uw",
        "outputId": "58364775-45ae-449f-8bba-1bbaa24021c1"
      },
      "execution_count": null,
      "outputs": [
        {
          "output_type": "stream",
          "name": "stdout",
          "text": [
            "Array Range from 10 to 49\n",
            " [10 11 12 13 14 15 16 17 18 19 20 21 22 23 24 25 26 27 28 29 30 31 32 33\n",
            " 34 35 36 37 38 39 40 41 42 43 44 45 46 47 48 49]\n",
            "\n",
            "3 * 3 Matrix from 0 to 8:\n",
            " [[0 1 2]\n",
            " [3 4 5]\n",
            " [6 7 8]]\n",
            "\n",
            "Identity matrix of 3 * 3: \n",
            " [[1. 0. 0.]\n",
            " [0. 1. 0.]\n",
            " [0. 0. 1.]]\n",
            "\n",
            "Mean value of it : 0.45\n",
            "\n",
            " Random Value 10 * 10 array : \n",
            " [[0.55241068 0.29754981 0.14053931 0.59798209 0.33774739 0.73315014\n",
            "  0.7292687  0.78983169 0.5450013  0.1208378 ]\n",
            " [0.01664494 0.69281161 0.04809317 0.54208922 0.58538119 0.59996164\n",
            "  0.69977421 0.94169213 0.05965399 0.07190279]\n",
            " [0.35097886 0.35027496 0.49191728 0.97084551 0.15416298 0.4505621\n",
            "  0.88522928 0.62951903 0.23170725 0.8496684 ]\n",
            " [0.90181607 0.87329422 0.50714498 0.91066702 0.74217635 0.11013111\n",
            "  0.7269668  0.54991822 0.83030424 0.06703639]\n",
            " [0.14878607 0.84230129 0.9921458  0.27719204 0.60250615 0.17817577\n",
            "  0.10111525 0.47196973 0.24944228 0.36682822]\n",
            " [0.18689035 0.13988387 0.46839492 0.84530305 0.7726029  0.24682094\n",
            "  0.27688062 0.43094419 0.32968888 0.9872745 ]\n",
            " [0.17470842 0.02292044 0.81945042 0.99567126 0.69177004 0.1832778\n",
            "  0.38448149 0.06503573 0.89391555 0.02935933]\n",
            " [0.24831796 0.7197631  0.18857873 0.54799604 0.7040399  0.66523319\n",
            "  0.63691455 0.32434691 0.81092453 0.97275392]\n",
            " [0.23798146 0.03223183 0.37436721 0.95407803 0.24583059 0.20472615\n",
            "  0.40331068 0.10531787 0.11062477 0.35701221]\n",
            " [0.61339129 0.30319129 0.09900264 0.7652882  0.278156   0.18921891\n",
            "  0.3326075  0.71804939 0.42860848 0.65742692]]\n",
            "\n",
            " Minimum Value : 0.016644939093265698\n",
            "\n",
            " Maximum Value : 0.9956712632218508\n",
            "[0. 0. 0. 0. 1. 0. 0. 0. 0. 0.]\n",
            "\n",
            " Actual array : [1, 2, 0, 0, 4, 0]\n",
            "\n",
            " Reversed Array : [0, 4, 0, 0, 2, 1]\n",
            "\n",
            " [[1. 1. 1. 1. 1.]\n",
            " [1. 0. 0. 0. 1.]\n",
            " [1. 0. 0. 0. 1.]\n",
            " [1. 0. 0. 0. 1.]\n",
            " [1. 1. 1. 1. 1.]]\n",
            "\n",
            "Checkerboard Pattern 8x8 Matrix:\n",
            " [[0 1 0 1 0 1 0 1]\n",
            " [1 0 1 0 1 0 1 0]\n",
            " [0 1 0 1 0 1 0 1]\n",
            " [1 0 1 0 1 0 1 0]\n",
            " [0 1 0 1 0 1 0 1]\n",
            " [1 0 1 0 1 0 1 0]\n",
            " [0 1 0 1 0 1 0 1]\n",
            " [1 0 1 0 1 0 1 0]]\n"
          ]
        }
      ]
    },
    {
      "cell_type": "markdown",
      "source": [
        "# Problem - 3: Array Operations:\n",
        "For the following arrays:\n",
        "x = np.array([[1,2],[3,5]]) and y = np.array([[5,6],[7,8]]);\n",
        "v = np.array([9,10]) and w = np.array([11,12]);\n",
        "Complete all the task using numpy:\n",
        "1. Add the two array.\n",
        "2. Subtract the two array.\n",
        "3. Multiply the array with any integers of your choice.\n",
        "4. Find the square of each element of the array.\n",
        "5. Find the dot product between: v(and)w ; x(and)v ; x(and)y.\n",
        "6. Concatenate x(and)y along row and Concatenate v(and)w along column.\n",
        "{Hint:try np.concatenate() or np.vstack() functions.\n",
        "7. Concatenate x(and)v; if you get an error, observe and explain why did you get the error?\n"
      ],
      "metadata": {
        "id": "Ddt31hrTxNAI"
      }
    },
    {
      "cell_type": "code",
      "source": [
        "import numpy as np\n",
        "x = np.array([[1,2],[3,5]])\n",
        "y = np.array([[5,6],[7,8]])\n",
        "v = np.array([9,10])\n",
        "w = np.array([11,12])\n",
        "\n",
        "print(f\"Given,\\nX = \\n{x}\\n\")\n",
        "print(f\"Y = \\n{y}\\n\")\n",
        "print(f\"V = \\n{v}\\n\")\n",
        "print(f\"W = \\n{w}\\n\")\n",
        "\n",
        "addition = x + y\n",
        "subtraction = y - x\n",
        "multipcation = x * 2\n",
        "square = np.square(x)\n",
        "dot_vw = np.dot(v,w)\n",
        "dot_xv = np.dot(x,v)\n",
        "dot_xy = np.dot(x,y)\n",
        "\n",
        "print(f\"The addition of x and y array is \\n{addition}\\n\")\n",
        "print(f\"The subtraction from x to y array is \\n{subtraction}\\n\")\n",
        "print(f\"Multilpying by 2 on all sides \\n{multipcation}\\n\")\n",
        "print(f\"Squaring all the elements\\n{square}\\n\")\n",
        "print(f\"Dot product between V and W : \\n{dot_vw}\\n\")\n",
        "print(f\"Dot product between X and V : \\n{dot_xv}\\n\")\n",
        "print(f\"Dot product between X and Y : \\n{dot_xy}\\n\")\n",
        "\n",
        "concat_xy = np.concatenate((x,y),axis = 0)\n",
        "concat_vw = np.vstack((v,w))\n",
        "\n",
        "print(f\"X and Y along row Concatination :\\n{concat_xy}\\n\")\n",
        "print(f\"V and W along column Concatination :\\n{concat_vw}\\n\")\n",
        "\n"
      ],
      "metadata": {
        "colab": {
          "base_uri": "https://localhost:8080/"
        },
        "id": "bSAEie94xQJ7",
        "outputId": "4c6e3cc1-7ee2-4d19-844d-bbd083122dd8"
      },
      "execution_count": null,
      "outputs": [
        {
          "output_type": "stream",
          "name": "stdout",
          "text": [
            "Given,\n",
            "X = \n",
            "[[1 2]\n",
            " [3 5]]\n",
            "\n",
            "Y = \n",
            "[[5 6]\n",
            " [7 8]]\n",
            "\n",
            "V = \n",
            "[ 9 10]\n",
            "\n",
            "W = \n",
            "[11 12]\n",
            "\n",
            "The addition of x and y array is \n",
            "[[ 6  8]\n",
            " [10 13]]\n",
            "\n",
            "The subtraction from x to y array is \n",
            "[[4 4]\n",
            " [4 3]]\n",
            "\n",
            "Multilpying by 2 on all sides \n",
            "[[ 2  4]\n",
            " [ 6 10]]\n",
            "\n",
            "Squaring all the elements\n",
            "[[ 1  4]\n",
            " [ 9 25]]\n",
            "\n",
            "Dot product between V and W : \n",
            "219\n",
            "\n",
            "Dot product between X and V : \n",
            "[29 77]\n",
            "\n",
            "Dot product between X and Y : \n",
            "[[19 22]\n",
            " [50 58]]\n",
            "\n",
            "X and Y along row Concatination :\n",
            "[[1 2]\n",
            " [3 5]\n",
            " [5 6]\n",
            " [7 8]]\n",
            "\n",
            "V and W along column Concatination :\n",
            "[[ 9 10]\n",
            " [11 12]]\n",
            "\n"
          ]
        }
      ]
    },
    {
      "cell_type": "markdown",
      "source": [
        "# Problem - 4: Matrix Operations:\n",
        "• For the following arrays:\n",
        "A = np.array([[3,4],[7,8]]) and B = np.array([[5,3],[2,1]]);\n",
        "Prove following with Numpy:\n",
        "1. Prove A.A−1 = I.\n",
        "2. Prove AB ̸= BA.\n",
        "3. Prove (AB)\n",
        "\n",
        "T = BTAT\n",
        ".\n",
        "\n",
        "• Solve the following system of Linear equation using Inverse Methods.\n",
        "\n",
        "2x − 3y + z = −1\n",
        "x − y + 2z = −3\n",
        "3x + y − z = 9\n",
        "\n",
        "{Hint: First use Numpy array to represent the equation in Matrix form. Then Solve for: AX = B}\n",
        "• Now: solve the above equation using np.linalg.inv function.{Explore more about ”linalg” function\n",
        "of Numpy}"
      ],
      "metadata": {
        "id": "9OdRLboF1fDo"
      }
    },
    {
      "cell_type": "code",
      "source": [
        "import numpy as np\n",
        "a = np.array([[3,4],[7,8]])\n",
        "b = np.array([[5,3],[2,1]])\n",
        "\n",
        "## A.A-1 = I\n",
        "a_inv = np.linalg.inv(a)\n",
        "identity_matrix = np.dot(a,a_inv)\n",
        "print(identity_matrix)\n",
        "\n",
        "## A.B not equals to B.A\n",
        "AB = np.dot(a, b)\n",
        "BA = np.dot(b, a)\n",
        "are_not_equal = not np.array_equal(AB, BA)\n",
        "print(f\"{are_not_equal},A.B is not equals to B.A\")\n",
        "\n",
        "## (A.B)t = Bt. At\n",
        "AB_T = np.transpose(np.dot(a, b))\n",
        "BT_AT = np.dot(np.transpose(b), np.transpose(a))\n",
        "are_equal = np.array_equal(AB_T, BT_AT)\n",
        "print(f\"{are_equal},Transpose of (A.B) is equals to B Transpose .A Transpose\")\n",
        "\n",
        "## A.X = B\n",
        "A = np.array([[2, -3, 1],\n",
        "              [1, -1, 2],\n",
        "              [3, 1, -1]])\n",
        "B = np.array([-1, -3, 9])\n",
        "\n",
        "A_inv = np.linalg.inv(A)\n",
        "X = np.dot(A_inv, B)\n",
        "print(f\"Solution of Linear equation using Inverse method is \\n{x}\\n\")\n"
      ],
      "metadata": {
        "colab": {
          "base_uri": "https://localhost:8080/"
        },
        "id": "ozHac-6T1jU6",
        "outputId": "b7618310-38f0-4a49-893f-706080fbc2f9"
      },
      "execution_count": null,
      "outputs": [
        {
          "output_type": "stream",
          "name": "stdout",
          "text": [
            "[[1.00000000e+00 0.00000000e+00]\n",
            " [1.77635684e-15 1.00000000e+00]]\n",
            "True,A.B is not equals to B.A\n",
            "True,Transpose of (A.B) is equals to B Transpose .A Transpose\n",
            "Solution of Linear equation using Inverse method is \n",
            "[[1 2]\n",
            " [3 5]]\n",
            "\n"
          ]
        }
      ]
    },
    {
      "cell_type": "markdown",
      "source": [
        "# 4.2 Experiment: How Fast is Numpy?\n",
        "# In this exercise, you will compare the performance and implementation of operations using plain Python\n",
        "lists (arrays) and NumPy arrays. Follow the instructions:\n",
        "1. Element-wise Addition:\n",
        "• Using Python Lists, perform element-wise addition of two lists of size 1, 000, 000. Measure\n",
        "and Print the time taken for this operation.\n",
        "• Using Numpy Arrays, Repeat the calculation and measure and print the time taken for this\n",
        "operation.\n",
        "2. Element-wise Multiplication\n",
        "\n",
        "• Using Python Lists, perform element-wise multiplication of two lists of size 1, 000, 000. Mea-\n",
        "sure and Print the time taken for this operation.\n",
        "\n",
        "• Using Numpy Arrays, Repeat the calculation and measure and print the time taken for this\n",
        "operation.\n",
        "3. Dot Product\n",
        "• Using Python Lists, compute the dot product of two lists of size 1, 000, 000. Measure and\n",
        "Print the time taken for this operation.\n",
        "• Using Numpy Arrays, Repeat the calculation and measure and print the time taken for this\n",
        "operation.\n",
        "4. Matrix Multiplication\n",
        "• Using Python lists, perform matrix multiplication of two matrices of size 1000x1000. Measure\n",
        "and print the time taken for this operation.\n",
        "\n",
        "• Using NumPy arrays, perform matrix multiplication of two matrices of size 1000x1000. Mea-\n",
        "sure and print the time taken for this operation."
      ],
      "metadata": {
        "id": "1GozCNY45zVs"
      }
    },
    {
      "cell_type": "code",
      "source": [
        "import numpy as np\n",
        "import time\n",
        "\n",
        "# 1. Element-wise Addition\n",
        "# Using Python Lists\n",
        "list1 = [i for i in range(1000000)]\n",
        "list2 = [i for i in range(1000000)]\n",
        "\n",
        "start = time.time()\n",
        "list_addition = [list1[i] + list2[i] for i in range(len(list1))]\n",
        "end = time.time()\n",
        "print(f\"Python Lists - Addition: {end - start:.5f} seconds\")\n",
        "\n",
        "# Using NumPy Arrays\n",
        "arr1 = np.array(list1)\n",
        "arr2 = np.array(list2)\n",
        "\n",
        "start = time.time()\n",
        "numpy_addition = arr1 + arr2\n",
        "end = time.time()\n",
        "print(f\"NumPy Arrays - Addition: {end - start:.5f} seconds\")\n",
        "\n",
        "# 2. Element-wise Multiplication\n",
        "# Using Python Lists\n",
        "start = time.time()\n",
        "list_multiplication = [list1[i] * list2[i] for i in range(len(list1))]\n",
        "end = time.time()\n",
        "print(f\"Python Lists - Multiplication: {end - start:.5f} seconds\")\n",
        "\n",
        "# Using NumPy Arrays\n",
        "start = time.time()\n",
        "numpy_multiplication = arr1 * arr2\n",
        "end = time.time()\n",
        "print(f\"NumPy Arrays - Multiplication: {end - start:.5f} seconds\")\n",
        "\n",
        "# 3. Dot Product\n",
        "# Using Python Lists\n",
        "start = time.time()\n",
        "list_dot_product = sum([list1[i] * list2[i] for i in range(len(list1))])\n",
        "end = time.time()\n",
        "print(f\"Python Lists - Dot Product: {end - start:.5f} seconds\")\n",
        "\n",
        "# Using NumPy Arrays\n",
        "start = time.time()\n",
        "numpy_dot_product = np.dot(arr1, arr2)\n",
        "end = time.time()\n",
        "print(f\"NumPy Arrays - Dot Product: {end - start:.5f} seconds\")\n",
        "\n",
        "# 4. Matrix Multiplication\n",
        "# Generate 1000x1000 Matrices\n",
        "matrix1 = [[i for i in range(1000)] for _ in range(1000)]\n",
        "matrix2 = [[i for i in range(1000)] for _ in range(1000)]\n",
        "\n",
        "# Using Python Lists\n",
        "start = time.time()\n",
        "python_matrix_mult = [[sum(a * b for a, b in zip(row, col)) for col in zip(*matrix2)] for row in matrix1]\n",
        "end = time.time()\n",
        "print(f\"Python Lists - Matrix Multiplication: {end - start:.5f} seconds\")\n",
        "\n",
        "# Using NumPy Arrays\n",
        "np_matrix1 = np.array(matrix1)\n",
        "np_matrix2 = np.array(matrix2)\n",
        "\n",
        "start = time.time()\n",
        "numpy_matrix_mult = np.dot(np_matrix1, np_matrix2)\n",
        "end = time.time()\n",
        "print(f\"NumPy Arrays - Matrix Multiplication: {end - start:.5f} seconds\")\n"
      ],
      "metadata": {
        "colab": {
          "base_uri": "https://localhost:8080/"
        },
        "id": "VQpqiuPfQegU",
        "outputId": "3b299499-141f-4df0-d0c1-3fa870310e76"
      },
      "execution_count": 1,
      "outputs": [
        {
          "output_type": "stream",
          "name": "stdout",
          "text": [
            "Python Lists - Addition: 0.26784 seconds\n",
            "NumPy Arrays - Addition: 0.00645 seconds\n",
            "Python Lists - Multiplication: 0.30180 seconds\n",
            "NumPy Arrays - Multiplication: 0.01048 seconds\n",
            "Python Lists - Dot Product: 0.28832 seconds\n",
            "NumPy Arrays - Dot Product: 0.00227 seconds\n",
            "Python Lists - Matrix Multiplication: 232.38063 seconds\n",
            "NumPy Arrays - Matrix Multiplication: 1.44019 seconds\n"
          ]
        }
      ]
    },
    {
      "cell_type": "markdown",
      "source": [
        "# Explanation:\n",
        "\n",
        "\n",
        "#*   Element-wise Addition:\n",
        "\n",
        "Using Python lists it iterate through each element, adding corresponding elements whereas using NumPy is used to perform vectorized addition.\n",
        "\n",
        "#*   Element-wise Multiplication:\n",
        "\n",
        "using Python lists it iterate through each element, multiplying corresponding elements whereas NumPy is used to perform vectorized multiplication.\n",
        "\n",
        "#* Dot Product:\n",
        "\n",
        "Using Python lists we can compute the sum of element-wise products whereas NumPy uses the optimized np.dot function.\n",
        "\n",
        "# * Matrix Multiplication:\n",
        "\n",
        "Using Python lists we can use nested loops to calculate the sum of products for corresponding rows and columns whereas Numpy uses the highly optimized np.dot for matrix multiplication."
      ],
      "metadata": {
        "id": "rC5bcrITRJ6d"
      }
    }
  ]
}